{
  "cells": [
    {
      "cell_type": "markdown",
      "metadata": {
        "id": "view-in-github",
        "colab_type": "text"
      },
      "source": [
        "<a href=\"https://colab.research.google.com/github/john3hunnid10/StockMarket/blob/main/Machine_Learning_Trial.ipynb\" target=\"_parent\"><img src=\"https://colab.research.google.com/assets/colab-badge.svg\" alt=\"Open In Colab\"/></a>"
      ]
    },
    {
      "cell_type": "code",
      "execution_count": 3,
      "id": "4c684df3",
      "metadata": {
        "id": "4c684df3"
      },
      "outputs": [],
      "source": [
        "from IPython.display import display, HTML\n",
        "import numpy as np\n",
        "import pandas as pd\n",
        "from sklearn.tree import DecisionTreeClassifier\n",
        "\n",
        "\n",
        "##importing the data and constructing the csv files for use\n",
        "intelDF = pd.read_csv('Intel (2023 - 08.04.2024).csv')\n",
        "msiDF = pd.read_csv('MSI (2023 - 08.04.2024).csv') #only 298x7\n",
        "amdDF = pd.read_csv('AMD (2023 - 08.04.2024).csv')\n",
        "asusDF = pd.read_csv('ASUS (2023 - 08.04.2024).csv') #only 298x7\n",
        "##Columns of CSV are: Date, Open, High, Low, Close, Adj Close, Volume\n",
        "intelDates=intelDF['Date']\n",
        "msiDates=msiDF['Date']\n",
        "amdDates=amdDF['Date']\n",
        "asusDates=asusDF['Date']\n",
        "\n",
        "intelHighs=intelDF['High']\n",
        "msiHighs=msiDF['High']\n",
        "amdHighs=amdDF['High']\n",
        "asusHighs=asusDF['High']\n",
        "\n",
        "intelHDict=dict(zip(intelDates,intelHighs))\n",
        "msiHDict=dict(zip(msiDates,msiHighs))\n",
        "amdHDict=dict(zip(amdDates,amdHighs))\n",
        "asusHDict=dict(zip(asusDates,asusHighs))\n",
        "\n",
        "\n",
        "dates = sorted(set(intelDates) | set(msiDates) | set(amdDates) | set(asusDates))\n",
        "combinedHighs=np.empty((len(dates),5),dtype=object)\n",
        "combinedHighs[:,0]=dates\n",
        "\n",
        "for i, date in enumerate(dates):\n",
        "  combinedHighs[i,1]=intelHDict.get(date, '')\n",
        "  combinedHighs[i,2]=msiHDict.get(date, '')\n",
        "  combinedHighs[i,3]=amdHDict.get(date, '')\n",
        "  combinedHighs[i,4]=asusHDict.get(date, '')\n",
        "\n",
        "columnLabels=np.array((['Dates', 'Intel', 'MSI', 'AMD', 'ASUS']),dtype=object)\n",
        "columnLbaels=columnLabels[np.newaxis,:]\n",
        "labeledHighs=np.vstack((columnLabels,combinedHighs))\n",
        "\n",
        "np.savetxt('stockHighs.csv',labeledHighs, delimiter=',',fmt='%s')\n",
        "\n",
        "\n"
      ]
    },
    {
      "cell_type": "code",
      "source": [
        "##Columns of CSV are: Date, Open, High, Low, Close, Adj Close, Volume\n",
        "\n",
        "intelOpens=intelDF['Open']\n",
        "msiOpens=msiDF['Open']\n",
        "amdOpens=amdDF['Open']\n",
        "asusOpens=amdDF['Open']\n",
        "\n",
        "intelODict=dict(zip(intelDates,intelOpens))\n",
        "msiODict=dict(zip(msiDates,msiOpens))\n",
        "amdODict=dict(zip(amdDates,amdOpens))\n",
        "asusODict=dict(zip(asusDates,asusOpens))\n",
        "\n",
        "\n",
        "combinedOpens=np.empty((len(dates),5),dtype=object)\n",
        "combinedOpens[:,0]=dates\n",
        "\n",
        "for i, date in enumerate(dates):\n",
        "  combinedOpens[i,1]=intelODict.get(date, '')\n",
        "  combinedOpens[i,2]=msiODict.get(date, '')\n",
        "  combinedOpens[i,3]=amdODict.get(date, '')\n",
        "  combinedOpens[i,4]=asusODict.get(date, '')\n",
        "\n",
        "labeledOpens=np.vstack((columnLabels,combinedOpens))\n",
        "\n",
        "np.savetxt('stockOpens.csv',labeledOpens, delimiter=',',fmt='%s')"
      ],
      "metadata": {
        "id": "XvdvnKiQJpdP"
      },
      "id": "XvdvnKiQJpdP",
      "execution_count": 5,
      "outputs": []
    },
    {
      "cell_type": "code",
      "source": [
        "##Columns of CSV are: Date, Open, High, Low, Close, Adj Close, Volume\n",
        "\n",
        "intelLows=intelDF['Low']\n",
        "msiLows=msiDF['Low']\n",
        "amdLows=amdDF['Low']\n",
        "asusLows=amdDF['Low']\n",
        "\n",
        "intelLDict=dict(zip(intelDates,intelLows))\n",
        "msiLDict=dict(zip(msiDates,msiLows))\n",
        "amdLDict=dict(zip(amdDates,amdLows))\n",
        "asusLDict=dict(zip(asusDates,asusLows))\n",
        "\n",
        "\n",
        "combinedLows=np.empty((len(dates),5),dtype=object)\n",
        "combinedLows[:,0]=dates\n",
        "\n",
        "for i, date in enumerate(dates):\n",
        "  combinedLows[i,1]=intelLDict.get(date, '')\n",
        "  combinedLows[i,2]=msiLDict.get(date, '')\n",
        "  combinedLows[i,3]=amdLDict.get(date, '')\n",
        "  combinedLows[i,4]=asusLDict.get(date, '')\n",
        "\n",
        "labeledLows=np.vstack((columnLabels,combinedLows))\n",
        "\n",
        "np.savetxt('stockLows.csv',labeledLows, delimiter=',',fmt='%s')"
      ],
      "metadata": {
        "id": "wONwuPpFIaJz"
      },
      "id": "wONwuPpFIaJz",
      "execution_count": 7,
      "outputs": []
    },
    {
      "cell_type": "code",
      "source": [
        "##Columns of CSV are: Date, Open, High, Low, Close, Adj Close, Volume\n",
        "\n",
        "intelCloses=intelDF['Close']\n",
        "msiCloses=msiDF['Close']\n",
        "amdCloses=amdDF['Close']\n",
        "asusCloses=amdDF['Close']\n",
        "\n",
        "intelCDict=dict(zip(intelDates,intelCloses))\n",
        "msiCDict=dict(zip(msiDates,msiCloses))\n",
        "amdCDict=dict(zip(amdDates,amdCloses))\n",
        "asusCDict=dict(zip(asusDates,asusCloses))\n",
        "\n",
        "\n",
        "combinedCloses=np.empty((len(dates),5),dtype=object)\n",
        "combinedCloses[:,0]=dates\n",
        "\n",
        "for i, date in enumerate(dates):\n",
        "  combinedCloses[i,1]=intelCDict.get(date, '')\n",
        "  combinedCloses[i,2]=msiCDict.get(date, '')\n",
        "  combinedCloses[i,3]=amdCDict.get(date, '')\n",
        "  combinedCloses[i,4]=asusCDict.get(date, '')\n",
        "\n",
        "labeledCloses=np.vstack((columnLabels,combinedCloses))\n",
        "\n",
        "np.savetxt('stockCloses.csv',labeledCloses, delimiter=',',fmt='%s')"
      ],
      "metadata": {
        "id": "cc3K9KXSARkw"
      },
      "id": "cc3K9KXSARkw",
      "execution_count": 8,
      "outputs": []
    },
    {
      "cell_type": "code",
      "source": [
        "##Columns of CSV are: Date, Open, High, Low, Close, Adj Close, Volume\n",
        "\n",
        "intelACloses=intelDF['Adj Close']\n",
        "msiACloses=msiDF['Adj Close']\n",
        "amdACloses=amdDF['Adj Close']\n",
        "asusACloses=amdDF['Adj Close']\n",
        "\n",
        "intelACDict=dict(zip(intelDates,intelACloses))\n",
        "msiACDict=dict(zip(msiDates,msiACloses))\n",
        "amdACDict=dict(zip(amdDates,amdACloses))\n",
        "asusACDict=dict(zip(asusDates,asusACloses))\n",
        "\n",
        "\n",
        "combinedACloses=np.empty((len(dates),5),dtype=object)\n",
        "combinedACloses[:,0]=dates\n",
        "\n",
        "for i, date in enumerate(dates):\n",
        "  combinedACloses[i,1]=intelACDict.get(date, '')\n",
        "  combinedACloses[i,2]=msiACDict.get(date, '')\n",
        "  combinedACloses[i,3]=amdACDict.get(date, '')\n",
        "  combinedACloses[i,4]=asusACDict.get(date, '')\n",
        "\n",
        "labeledACloses=np.vstack((columnLabels,combinedACloses))\n",
        "\n",
        "np.savetxt('stockAdjCloses.csv',labeledACloses, delimiter=',',fmt='%s')"
      ],
      "metadata": {
        "id": "lBY0iZ8ZBo6C"
      },
      "id": "lBY0iZ8ZBo6C",
      "execution_count": 10,
      "outputs": []
    }
  ],
  "metadata": {
    "kernelspec": {
      "display_name": "Python 3 (ipykernel)",
      "language": "python",
      "name": "python3"
    },
    "language_info": {
      "codemirror_mode": {
        "name": "ipython",
        "version": 3
      },
      "file_extension": ".py",
      "mimetype": "text/x-python",
      "name": "python",
      "nbconvert_exporter": "python",
      "pygments_lexer": "ipython3",
      "version": "3.11.7"
    },
    "colab": {
      "provenance": [],
      "include_colab_link": true
    }
  },
  "nbformat": 4,
  "nbformat_minor": 5
}